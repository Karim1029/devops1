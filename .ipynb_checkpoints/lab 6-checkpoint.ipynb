{
 "cells": [
  {
   "cell_type": "code",
   "execution_count": 34,
   "id": "38afca58",
   "metadata": {},
   "outputs": [
    {
     "name": "stdout",
     "output_type": "stream",
     "text": [
      "['main']\n"
     ]
    }
   ],
   "source": [
    "from github import Github\n",
    "import yaml\n",
    "# credentials.yml contains your usr/repo and PAT created in step 11 above\n",
    "# So we load the data into a YML object\n",
    "data = yaml.safe_load(open('Karim1029-credentials.yml'))\n",
    "\n",
    "# # Extract the user and token from the data object\n",
    "# # 0. Complete these 2 lines below\n",
    "user = data[\"creds\"][\"username\"]\n",
    "token = data[\"creds\"][\"token\"]\n",
    "# using an access token\n",
    "g = Github(token)\n",
    "repo = g.get_repo(user)\n",
    "#Complete your tasks from here\n",
    "\n",
    "versions = []\n",
    "for branch in repo.get_branches():\n",
    "    versions.append(branch.name)\n",
    "print(versions)"
   ]
  },
  {
   "cell_type": "code",
   "execution_count": null,
   "id": "f21f4905",
   "metadata": {},
   "outputs": [],
   "source": []
  }
 ],
 "metadata": {
  "kernelspec": {
   "display_name": "Python 3 (ipykernel)",
   "language": "python",
   "name": "python3"
  },
  "language_info": {
   "codemirror_mode": {
    "name": "ipython",
    "version": 3
   },
   "file_extension": ".py",
   "mimetype": "text/x-python",
   "name": "python",
   "nbconvert_exporter": "python",
   "pygments_lexer": "ipython3",
   "version": "3.9.12"
  }
 },
 "nbformat": 4,
 "nbformat_minor": 5
}
